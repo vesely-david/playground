{
 "cells": [
  {
   "cell_type": "code",
   "execution_count": 1,
   "metadata": {
    "collapsed": true
   },
   "outputs": [
    {
     "data": {
      "text/plain": "'http://127.0.0.1:8080'"
     },
     "execution_count": 1,
     "metadata": {},
     "output_type": "execute_result"
    }
   ],
   "source": [
    "import os\n",
    "from dotenv import load_dotenv\n",
    "\n",
    "# Create .env file in current folder with following vars\n",
    "\n",
    "load_dotenv()\n",
    "os.getenv('OAUTH_URI')"
   ]
  },
  {
   "cell_type": "code",
   "execution_count": 2,
   "outputs": [],
   "source": [
    "from ticktick.oauth2 import OAuth2        # OAuth2 Manager\n",
    "from ticktick.api import TickTickClient\n",
    "\n",
    "auth_client = OAuth2(client_id=os.getenv('CLIENT_ID'),\n",
    "                     client_secret=os.getenv('CLIENT_SECRET'),\n",
    "                     redirect_uri=os.getenv('OAUTH_URI'))\n",
    "\n",
    "client = TickTickClient(os.getenv('USERNAME'), os.getenv('PASSWORD'), auth_client)\n"
   ],
   "metadata": {
    "collapsed": false,
    "pycharm": {
     "name": "#%%\n"
    }
   }
  },
  {
   "cell_type": "markdown",
   "source": [
    "# Get All Wanted Tasks\n"
   ],
   "metadata": {
    "collapsed": false,
    "pycharm": {
     "name": "#%% md\n"
    }
   }
  },
  {
   "cell_type": "code",
   "execution_count": 20,
   "outputs": [],
   "source": [
    "import datetime\n",
    "\n",
    "FROM = datetime.datetime(2022, 3, 28)\n",
    "TO = datetime.datetime(2022, 4, 3)\n",
    "WORK_TAGS = {'employment', 'my_business', 'meeting'}\n",
    "\n",
    "\n",
    "tasks = client.task.get_completed(FROM, TO) + client.state['tasks']\n",
    "\n",
    "# week_tasks = [task ]\n",
    "with_tags = [task for task in tasks if task.get('tags')]\n",
    "work_tasks = [task for task in with_tags if len(WORK_TAGS.intersection(task['tags'])) > 0]"
   ],
   "metadata": {
    "collapsed": false,
    "pycharm": {
     "name": "#%%\n"
    }
   }
  },
  {
   "cell_type": "code",
   "execution_count": 21,
   "outputs": [
    {
     "data": {
      "text/plain": "[{'id': '62434ed6cfe1d10d6d32d79c',\n  'projectId': '61d201866cd1d109f13270f2',\n  'sortOrder': 7046430720,\n  'title': 'Deep Work ',\n  'content': '',\n  'desc': '',\n  'startDate': '2022-03-30T10:30:00.000+0000',\n  'dueDate': '2022-03-30T13:30:00.000+0000',\n  'timeZone': 'Europe/Prague',\n  'isFloating': False,\n  'isAllDay': False,\n  'reminders': [{'id': '62434ed6cff1d10d6d32d79d', 'trigger': 'TRIGGER:PT0S'}],\n  'completedTime': '2022-03-30T13:19:57.000+0000',\n  'completedUserId': 116954695,\n  'priority': 0,\n  'status': 2,\n  'items': [],\n  'progress': 0,\n  'modifiedTime': '2022-03-30T13:19:57.000+0000',\n  'etag': 'j0u5hphm',\n  'deleted': 0,\n  'createdTime': '2022-03-29T18:24:22.000+0000',\n  'creator': 116954695,\n  'tags': ['employment'],\n  'attachments': [],\n  'commentCount': 0,\n  'focusSummaries': [],\n  'kind': 'TEXT'},\n {'id': '624417e350a8910d6d32f8e9',\n  'projectId': '61d201866cd1d109f13270f2',\n  'sortOrder': 6996099072,\n  'title': 'Planning',\n  'content': '',\n  'desc': '',\n  'startDate': '2022-03-30T09:00:00.000+0000',\n  'dueDate': '2022-03-30T09:30:00.000+0000',\n  'timeZone': 'Europe/Prague',\n  'isFloating': False,\n  'isAllDay': False,\n  'reminders': [{'id': '624417e350b9110d6d32f8ea', 'trigger': 'TRIGGER:PT0S'}],\n  'completedTime': '2022-03-30T10:18:20.000+0000',\n  'completedUserId': 116954695,\n  'priority': 0,\n  'status': 2,\n  'items': [],\n  'progress': 0,\n  'modifiedTime': '2022-03-30T10:18:20.000+0000',\n  'etag': '44mf39di',\n  'deleted': 0,\n  'createdTime': '2022-03-30T08:42:11.000+0000',\n  'creator': 116954695,\n  'tags': ['employment'],\n  'attachments': [],\n  'commentCount': 0,\n  'focusSummaries': [],\n  'kind': 'TEXT'},\n {'id': '6242b10d0af7910d6d3279f6',\n  'projectId': '60265e2d0883517bab627686',\n  'sortOrder': 549755813888,\n  'title': 'Document Processing StandUp',\n  'content': '',\n  'desc': '',\n  'startDate': '2022-03-30T08:30:00.000+0000',\n  'dueDate': '2022-03-30T09:00:00.000+0000',\n  'timeZone': 'Europe/Prague',\n  'isFloating': False,\n  'isAllDay': False,\n  'reminders': [],\n  'completedTime': '2022-03-30T09:07:11.000+0000',\n  'completedUserId': 116954695,\n  'repeatTaskId': '60ec1350fb3f8563d63f86d7',\n  'priority': 0,\n  'status': 2,\n  'items': [],\n  'progress': 0,\n  'modifiedTime': '2022-03-30T09:07:11.000+0000',\n  'etag': '96y0k2ck',\n  'deleted': 0,\n  'createdTime': '2021-07-12T10:03:14.000+0000',\n  'creator': 116954695,\n  'repeatFrom': '2',\n  'tags': ['employment', 'meeting'],\n  'attachments': [],\n  'commentCount': 0,\n  'focusSummaries': [],\n  'kind': 'TEXT'},\n {'id': '62434eaf6363110d6d32d4c2',\n  'projectId': '61d201866cd1d109f13270f2',\n  'sortOrder': 7012876288,\n  'title': 'Planning ',\n  'content': '',\n  'desc': '',\n  'startDate': '2022-03-30T08:15:00.000+0000',\n  'dueDate': '2022-03-30T08:30:00.000+0000',\n  'timeZone': 'Europe/Prague',\n  'isFloating': False,\n  'isAllDay': False,\n  'reminders': [{'id': '62434eaf637f510d6d32d4c3', 'trigger': 'TRIGGER:PT0S'}],\n  'completedTime': '2022-03-30T08:41:48.000+0000',\n  'completedUserId': 116954695,\n  'priority': 0,\n  'status': 2,\n  'items': [],\n  'progress': 0,\n  'modifiedTime': '2022-03-30T08:41:48.000+0000',\n  'etag': '4rufrj4j',\n  'deleted': 0,\n  'createdTime': '2022-03-29T18:23:43.000+0000',\n  'creator': 116954695,\n  'tags': ['employment'],\n  'attachments': [],\n  'commentCount': 0,\n  'focusSummaries': [],\n  'kind': 'TEXT'},\n {'id': '62434e3e3f47510d6d32d037',\n  'projectId': '61d201866cd1d109f13270f2',\n  'sortOrder': 6945767424,\n  'title': 'Serious discussion about funny stuff ',\n  'content': '',\n  'desc': '',\n  'startDate': '2022-03-30T07:00:00.000+0000',\n  'dueDate': '2022-03-30T08:15:00.000+0000',\n  'timeZone': 'Europe/Prague',\n  'isFloating': False,\n  'isAllDay': False,\n  'reminders': [{'id': '62434e3e3f63910d6d32d038', 'trigger': 'TRIGGER:PT0S'}],\n  'completedTime': '2022-03-30T08:19:58.000+0000',\n  'completedUserId': 116954695,\n  'priority': 0,\n  'status': 2,\n  'items': [],\n  'progress': 0,\n  'modifiedTime': '2022-03-30T08:19:58.000+0000',\n  'etag': 'ay9gzcus',\n  'deleted': 0,\n  'createdTime': '2022-03-29T18:21:50.000+0000',\n  'creator': 116954695,\n  'tags': ['meeting'],\n  'attachments': [],\n  'commentCount': 0,\n  'focusSummaries': [],\n  'kind': 'TEXT'},\n {'id': '62434f3567a8110d6d32da1a',\n  'projectId': '60265e2d0883517bab627686',\n  'sortOrder': 1924749328384,\n  'title': 'Cognitive AI Team Discussion ',\n  'content': '',\n  'desc': '',\n  'startDate': '2022-03-31T13:00:00.000+0000',\n  'dueDate': '2022-03-31T14:00:00.000+0000',\n  'timeZone': 'Europe/Prague',\n  'isFloating': False,\n  'isAllDay': False,\n  'reminders': [{'id': '62434f356726d10d6d32da1b', 'trigger': 'TRIGGER:PT0S'}],\n  'completedTime': '2022-03-29T18:25:57.000+0000',\n  'repeatTaskId': '622f27d06471510f47795edc',\n  'priority': 0,\n  'status': -1,\n  'items': [],\n  'progress': 0,\n  'modifiedTime': '2022-03-24T15:02:47.000+0000',\n  'etag': 'ggmpignp',\n  'deleted': 0,\n  'createdTime': '2022-03-14T11:32:32.000+0000',\n  'creator': 116954695,\n  'repeatFrom': '2',\n  'tags': ['meeting'],\n  'attachments': [],\n  'commentCount': 0,\n  'focusSummaries': [],\n  'kind': 'TEXT'},\n {'id': '62434e3bc58a110d6d32d009',\n  'projectId': '60265e2d0883517bab627686',\n  'sortOrder': 1099511627776,\n  'title': 'Serious discussion about funny stuff',\n  'content': '',\n  'desc': '',\n  'startDate': '2022-03-31T07:00:00.000+0000',\n  'dueDate': '2022-03-31T08:00:00.000+0000',\n  'timeZone': 'Europe/Prague',\n  'isFloating': False,\n  'isAllDay': False,\n  'reminders': [],\n  'completedTime': '2022-03-29T18:21:47.000+0000',\n  'repeatTaskId': '606d8f4bfb3f853425636b18',\n  'priority': 0,\n  'status': -1,\n  'items': [],\n  'progress': 0,\n  'modifiedTime': '2022-03-29T07:12:00.000+0000',\n  'etag': '0unl4jyk',\n  'deleted': 0,\n  'createdTime': '2021-04-07T10:54:48.000+0000',\n  'creator': 116954695,\n  'repeatFrom': '2',\n  'tags': ['employment', 'meeting'],\n  'attachments': [],\n  'commentCount': 0,\n  'focusSummaries': [],\n  'kind': 'TEXT'},\n {'id': '62431f9222c2510d6d32c7b8',\n  'projectId': '61d201866cd1d109f13270f2',\n  'sortOrder': 3258974208,\n  'title': 'Chameleon Sync ',\n  'content': '',\n  'desc': '',\n  'startDate': '2022-03-29T14:30:00.000+0000',\n  'dueDate': '2022-03-29T15:00:00.000+0000',\n  'timeZone': 'Europe/Prague',\n  'isFloating': False,\n  'isAllDay': False,\n  'reminders': [{'id': '62431f9222cbd10d6d32c7b9', 'trigger': 'TRIGGER:PT0S'}],\n  'completedTime': '2022-03-29T15:02:42.000+0000',\n  'completedUserId': 116954695,\n  'repeatTaskId': '6211424f6ce1d17a92093cc3',\n  'priority': 0,\n  'status': 2,\n  'items': [],\n  'progress': 0,\n  'modifiedTime': '2022-03-22T15:58:05.000+0000',\n  'etag': '3t6yyfjk',\n  'deleted': 0,\n  'createdTime': '2022-02-19T19:17:35.000+0000',\n  'creator': 116954695,\n  'repeatFrom': '2',\n  'tags': ['my_business'],\n  'attachments': [],\n  'commentCount': 0,\n  'focusSummaries': [],\n  'kind': 'TEXT'},\n {'id': '6242b55321fcd10d6d328be4',\n  'projectId': '61d201866cd1d109f13270f2',\n  'sortOrder': 6794772480,\n  'title': 'Deep Work',\n  'content': '',\n  'desc': '',\n  'startDate': '2022-03-29T12:15:00.000+0000',\n  'dueDate': '2022-03-29T14:00:00.000+0000',\n  'timeZone': 'Europe/Prague',\n  'isFloating': False,\n  'isAllDay': False,\n  'reminders': [{'id': '6242b55321d4110d6d328be5', 'trigger': 'TRIGGER:PT0S'}],\n  'completedTime': '2022-03-29T14:56:05.000+0000',\n  'completedUserId': 116954695,\n  'priority': 0,\n  'status': 2,\n  'items': [],\n  'progress': 0,\n  'modifiedTime': '2022-03-29T14:56:05.000+0000',\n  'etag': 's5wy8vcf',\n  'deleted': 0,\n  'createdTime': '2022-03-29T07:29:23.000+0000',\n  'creator': 116954695,\n  'tags': ['employment'],\n  'attachments': [],\n  'commentCount': 0,\n  'focusSummaries': [],\n  'kind': 'TEXT'},\n {'id': '6242b53dc1a0110d6d328a24',\n  'projectId': '61d201866cd1d109f13270f2',\n  'sortOrder': 6845104128,\n  'title': 'Meeting with Damian ',\n  'content': '',\n  'desc': '',\n  'startDate': '2022-03-29T12:00:00.000+0000',\n  'dueDate': '2022-03-29T12:15:00.000+0000',\n  'timeZone': 'Europe/Prague',\n  'isFloating': False,\n  'isAllDay': False,\n  'reminders': [{'id': '6242b53dc187910d6d328a25', 'trigger': 'TRIGGER:PT0S'}],\n  'completedTime': '2022-03-29T12:12:24.000+0000',\n  'completedUserId': 116954695,\n  'priority': 0,\n  'status': 2,\n  'items': [],\n  'progress': 0,\n  'modifiedTime': '2022-03-29T12:12:28.000+0000',\n  'etag': 'r5m63ksa',\n  'deleted': 0,\n  'createdTime': '2022-03-29T07:29:01.000+0000',\n  'creator': 116954695,\n  'tags': ['my_business'],\n  'attachments': [],\n  'commentCount': 0,\n  'focusSummaries': [],\n  'kind': 'TEXT'},\n {'id': '6242b0036848110d6d3278e9',\n  'projectId': '61d201866cd1d109f13270f2',\n  'sortOrder': 6811549696,\n  'title': 'Deep Work ',\n  'content': '',\n  'desc': '',\n  'startDate': '2022-03-29T10:45:00.000+0000',\n  'dueDate': '2022-03-29T12:00:00.000+0000',\n  'timeZone': 'Europe/Prague',\n  'isFloating': False,\n  'isAllDay': False,\n  'reminders': [{'id': '6242b003684ad10d6d3278ea', 'trigger': 'TRIGGER:PT0S'}],\n  'completedTime': '2022-03-29T12:12:22.000+0000',\n  'completedUserId': 116954695,\n  'priority': 0,\n  'status': 2,\n  'items': [],\n  'progress': 0,\n  'modifiedTime': '2022-03-29T12:12:22.000+0000',\n  'etag': 'ocfxlk83',\n  'deleted': 0,\n  'createdTime': '2022-03-29T07:06:43.000+0000',\n  'creator': 116954695,\n  'tags': ['employment'],\n  'attachments': [],\n  'commentCount': 0,\n  'focusSummaries': [],\n  'kind': 'TEXT'},\n {'id': '6242af6e61c3110d6d32731d',\n  'projectId': '61d201866cd1d109f13270f2',\n  'sortOrder': 6677331968,\n  'title': 'PRG Employee session ',\n  'content': '',\n  'desc': '',\n  'startDate': '2022-03-29T09:30:00.000+0000',\n  'dueDate': '2022-03-29T10:30:00.000+0000',\n  'timeZone': 'Europe/Prague',\n  'isFloating': False,\n  'isAllDay': False,\n  'reminders': [{'id': '6242af6e6160510d6d32731e', 'trigger': 'TRIGGER:PT0S'}],\n  'completedTime': '2022-03-29T10:28:31.000+0000',\n  'completedUserId': 116954695,\n  'priority': 0,\n  'status': 2,\n  'items': [],\n  'progress': 0,\n  'modifiedTime': '2022-03-29T10:28:31.000+0000',\n  'etag': 'r7hc2far',\n  'deleted': 0,\n  'createdTime': '2022-03-29T07:04:14.000+0000',\n  'creator': 116954695,\n  'tags': ['meeting'],\n  'attachments': [],\n  'commentCount': 0,\n  'focusSummaries': [],\n  'kind': 'TEXT'},\n {'id': '6242afad71a4510d6d3274a9',\n  'projectId': '61d201866cd1d109f13270f2',\n  'sortOrder': 6710886400,\n  'title': 'Planning / Deep Work ',\n  'content': '',\n  'desc': '',\n  'startDate': '2022-03-29T07:00:00.000+0000',\n  'dueDate': '2022-03-29T09:00:00.000+0000',\n  'timeZone': 'Europe/Prague',\n  'isFloating': False,\n  'isAllDay': False,\n  'reminders': [{'id': '6242afad7195510d6d3274aa', 'trigger': 'TRIGGER:PT0S'}],\n  'completedTime': '2022-03-29T08:58:18.000+0000',\n  'completedUserId': 116954695,\n  'priority': 0,\n  'status': 2,\n  'items': [],\n  'progress': 0,\n  'modifiedTime': '2022-03-29T08:58:18.000+0000',\n  'etag': '2htv5hm0',\n  'deleted': 0,\n  'createdTime': '2022-03-29T07:05:17.000+0000',\n  'creator': 116954695,\n  'tags': ['employment'],\n  'attachments': [],\n  'commentCount': 0,\n  'focusSummaries': [],\n  'kind': 'TEXT'},\n {'id': '62417532c13e910d6d326235',\n  'projectId': '60265e2d0883517bab627686',\n  'sortOrder': -1099511627776,\n  'title': 'Document Processing Planning ',\n  'content': '',\n  'desc': '',\n  'startDate': '2022-03-28T07:00:00.000+0000',\n  'dueDate': '2022-03-28T09:00:00.000+0000',\n  'timeZone': 'Europe/Prague',\n  'isFloating': False,\n  'isAllDay': False,\n  'reminders': [],\n  'completedTime': '2022-03-28T08:43:30.000+0000',\n  'repeatTaskId': '61079523fb3f85185f691594',\n  'priority': 0,\n  'status': -1,\n  'items': [],\n  'progress': 0,\n  'modifiedTime': '2022-03-21T08:06:25.000+0000',\n  'etag': '8023k3mr',\n  'deleted': 0,\n  'createdTime': '2021-08-02T06:48:32.000+0000',\n  'creator': 116954695,\n  'repeatFrom': '2',\n  'tags': ['employment', 'meeting'],\n  'attachments': [],\n  'commentCount': 0,\n  'focusSummaries': [],\n  'kind': 'TEXT'},\n {'id': '606d8f4bfb3f853425636b18',\n  'projectId': '60265e2d0883517bab627686',\n  'sortOrder': 1099511627776,\n  'title': 'Serious discussion about funny stuff',\n  'content': '',\n  'desc': '',\n  'startDate': '2022-04-14T07:00:00.000+0000',\n  'dueDate': '2022-04-14T08:00:00.000+0000',\n  'timeZone': 'Europe/Prague',\n  'isFloating': False,\n  'isAllDay': False,\n  'reminders': [],\n  'repeatFirstDate': '2022-01-27T08:00:00.000+0000',\n  'repeatFlag': 'RRULE:FREQ=WEEKLY;WKST=MO;INTERVAL=2;BYDAY=TH',\n  'exDate': [],\n  'completedUserId': 116954695,\n  'repeatTaskId': '606d8f4bfb3f853425636b18',\n  'priority': 0,\n  'status': 0,\n  'items': [],\n  'progress': 0,\n  'modifiedTime': '2022-03-29T18:21:47.000+0000',\n  'etag': 'ccvuft5x',\n  'deleted': 0,\n  'createdTime': '2021-04-07T10:54:48.000+0000',\n  'creator': 116954695,\n  'repeatFrom': '0',\n  'tags': ['employment', 'meeting'],\n  'focusSummaries': [],\n  'kind': 'TEXT'},\n {'id': '60ec1350fb3f8563d63f86d7',\n  'projectId': '60265e2d0883517bab627686',\n  'sortOrder': 549755813888,\n  'title': 'Document Processing StandUp',\n  'content': '',\n  'desc': '',\n  'startDate': '2022-04-06T07:30:00.000+0000',\n  'dueDate': '2022-04-06T08:15:00.000+0000',\n  'timeZone': 'Europe/Prague',\n  'isFloating': False,\n  'isAllDay': False,\n  'reminders': [],\n  'repeatFirstDate': '2022-01-05T08:30:00.000+0000',\n  'repeatFlag': 'RRULE:FREQ=WEEKLY;WKST=MO;INTERVAL=1;BYDAY=WE',\n  'exDate': [],\n  'completedUserId': 116954695,\n  'repeatTaskId': '60ec1350fb3f8563d63f86d7',\n  'priority': 0,\n  'status': 0,\n  'items': [],\n  'progress': 0,\n  'modifiedTime': '2022-03-29T07:11:09.000+0000',\n  'etag': 'f1es4pv1',\n  'deleted': 0,\n  'createdTime': '2021-07-12T10:03:14.000+0000',\n  'creator': 116954695,\n  'repeatFrom': '0',\n  'tags': ['employment', 'meeting'],\n  'focusSummaries': [],\n  'kind': 'TEXT'},\n {'id': '61079523fb3f85185f691594',\n  'projectId': '60265e2d0883517bab627686',\n  'sortOrder': 0,\n  'title': 'Document Processing Planning ',\n  'content': '',\n  'desc': '',\n  'startDate': '2022-04-04T07:00:00.000+0000',\n  'dueDate': '2022-04-04T09:00:00.000+0000',\n  'timeZone': 'Europe/Prague',\n  'isFloating': False,\n  'isAllDay': False,\n  'reminders': [],\n  'repeatFirstDate': '2022-01-03T08:00:00.000+0000',\n  'repeatFlag': 'RRULE:FREQ=WEEKLY;INTERVAL=1',\n  'exDate': [],\n  'completedUserId': 116954695,\n  'repeatTaskId': '61079523fb3f85185f691594',\n  'priority': 0,\n  'status': 0,\n  'items': [],\n  'progress': 0,\n  'modifiedTime': '2022-03-28T08:43:30.000+0000',\n  'etag': 'bwejzpmc',\n  'deleted': 0,\n  'createdTime': '2021-08-02T06:48:32.000+0000',\n  'creator': 116954695,\n  'repeatFrom': '2',\n  'tags': ['employment', 'meeting'],\n  'focusSummaries': [],\n  'kind': 'TEXT'},\n {'id': '62113f65b228117a92092e82',\n  'projectId': '60265e2d0883517bab627686',\n  'sortOrder': 1924648665088,\n  'title': 'Standup ',\n  'content': '',\n  'desc': '',\n  'startDate': '2022-04-01T09:30:00.000+0000',\n  'dueDate': '2022-04-01T10:00:00.000+0000',\n  'timeZone': 'Europe/Prague',\n  'isFloating': False,\n  'isAllDay': False,\n  'reminders': [{'id': '6221e22d52fe348ec17a9ac7', 'trigger': 'TRIGGER:PT0S'}],\n  'repeatFirstDate': '2022-03-11T09:30:00.000+0000',\n  'repeatFlag': 'RRULE:FREQ=WEEKLY;INTERVAL=1',\n  'exDate': [],\n  'completedUserId': 116954695,\n  'repeatTaskId': '62113f65b228117a92092e82',\n  'priority': 0,\n  'status': 0,\n  'items': [],\n  'progress': 0,\n  'modifiedTime': '2022-03-29T07:13:45.000+0000',\n  'etag': '3y5xjgg2',\n  'deleted': 0,\n  'createdTime': '2022-02-19T19:05:09.000+0000',\n  'creator': 116954695,\n  'repeatFrom': '2',\n  'tags': ['meeting'],\n  'attachments': [],\n  'commentCount': 0,\n  'focusSummaries': [],\n  'kind': 'TEXT'},\n {'id': '622f27d06471510f47795edc',\n  'projectId': '60265e2d0883517bab627686',\n  'sortOrder': 1924749328384,\n  'title': 'Cognitive AI Team Discussion ',\n  'content': '',\n  'desc': '',\n  'startDate': '2022-04-07T13:00:00.000+0000',\n  'dueDate': '2022-04-07T14:00:00.000+0000',\n  'timeZone': 'Europe/Prague',\n  'isFloating': False,\n  'isAllDay': False,\n  'reminders': [{'id': '622f27d06463510f47795edd', 'trigger': 'TRIGGER:PT0S'}],\n  'repeatFlag': 'RRULE:FREQ=WEEKLY;INTERVAL=1',\n  'priority': 0,\n  'status': 0,\n  'items': [],\n  'progress': 0,\n  'modifiedTime': '2022-03-29T18:25:57.000+0000',\n  'etag': 'f6hthjhx',\n  'deleted': 0,\n  'createdTime': '2022-03-14T11:32:32.000+0000',\n  'creator': 116954695,\n  'repeatFrom': '2',\n  'tags': ['meeting'],\n  'attachments': [],\n  'commentCount': 0,\n  'focusSummaries': [],\n  'kind': 'TEXT'},\n {'id': '62343785d12b1106cf67a112',\n  'projectId': '60265e2d0883517bab627686',\n  'sortOrder': 1924782882816,\n  'title': 'py-talks',\n  'content': '',\n  'desc': '',\n  'startDate': '2022-04-01T08:00:00.000+0000',\n  'dueDate': '2022-04-01T08:30:00.000+0000',\n  'timeZone': 'Europe/Prague',\n  'isFloating': False,\n  'isAllDay': False,\n  'reminders': [{'id': '62343785a0d49106cf67a113', 'trigger': 'TRIGGER:PT0S'}],\n  'repeatFlag': 'RRULE:FREQ=WEEKLY;INTERVAL=1',\n  'priority': 0,\n  'status': 0,\n  'items': [],\n  'progress': 0,\n  'modifiedTime': '2022-03-29T07:12:35.000+0000',\n  'etag': 'ujxuu3fk',\n  'deleted': 0,\n  'createdTime': '2022-03-18T07:40:53.000+0000',\n  'creator': 116954695,\n  'repeatFrom': '2',\n  'tags': ['meeting'],\n  'attachments': [],\n  'commentCount': 0,\n  'focusSummaries': [],\n  'kind': 'TEXT'},\n {'id': '6211424f6ce1d17a92093cc3',\n  'projectId': '61d201866cd1d109f13270f2',\n  'sortOrder': 3257925632,\n  'title': 'Chameleon Sync ',\n  'content': '',\n  'desc': '',\n  'startDate': '2022-04-05T14:30:00.000+0000',\n  'dueDate': '2022-04-05T15:00:00.000+0000',\n  'timeZone': 'Europe/Prague',\n  'isFloating': False,\n  'isAllDay': False,\n  'reminders': [{'id': '6211424f6cec517a92093cc4', 'trigger': 'TRIGGER:PT0S'}],\n  'repeatFlag': 'RRULE:FREQ=WEEKLY;INTERVAL=1',\n  'priority': 0,\n  'status': 0,\n  'items': [],\n  'progress': 0,\n  'modifiedTime': '2022-03-29T18:23:56.772+0000',\n  'etag': 'd9b8eygz',\n  'deleted': 0,\n  'createdTime': '2022-02-19T19:17:35.000+0000',\n  'creator': 116954695,\n  'repeatFrom': '2',\n  'tags': ['my_business'],\n  'attachments': [],\n  'commentCount': 0,\n  'focusSummaries': [],\n  'kind': 'TEXT'},\n {'id': '61d42e64e3ec1104caa4965c',\n  'projectId': '61d30524d1acd104caa45e82',\n  'sortOrder': -150994944,\n  'title': 'Deep Work',\n  'content': '',\n  'desc': '',\n  'timeZone': 'Europe/Prague',\n  'isFloating': False,\n  'isAllDay': False,\n  'reminder': '',\n  'reminders': [],\n  'priority': 0,\n  'status': 0,\n  'items': [],\n  'progress': 0,\n  'modifiedTime': '2022-01-11T11:45:44.000+0000',\n  'etag': 'g69jf7xa',\n  'deleted': 0,\n  'createdTime': '2022-01-04T11:24:20.000+0000',\n  'creator': 116954695,\n  'tags': ['employment'],\n  'attachments': [],\n  'commentCount': 0,\n  'focusSummaries': [],\n  'kind': 'TEXT'},\n {'id': '61d42f6810fbd104caa4a240',\n  'projectId': '61d30524d1acd104caa45e82',\n  'sortOrder': -134217728,\n  'title': 'Chameleon ',\n  'content': '',\n  'desc': '',\n  'timeZone': 'Europe/Prague',\n  'isFloating': False,\n  'isAllDay': False,\n  'reminder': '',\n  'reminders': [],\n  'priority': 0,\n  'status': 0,\n  'items': [],\n  'progress': 0,\n  'modifiedTime': '2022-01-04T11:29:20.000+0000',\n  'etag': 'e94cw13n',\n  'deleted': 0,\n  'createdTime': '2022-01-04T11:28:40.000+0000',\n  'creator': 116954695,\n  'tags': ['my_business'],\n  'attachments': [],\n  'commentCount': 0,\n  'focusSummaries': [],\n  'kind': 'TEXT'}]"
     },
     "execution_count": 21,
     "metadata": {},
     "output_type": "execute_result"
    }
   ],
   "source": [
    "work_tasks"
   ],
   "metadata": {
    "collapsed": false,
    "pycharm": {
     "name": "#%%\n"
    }
   }
  },
  {
   "cell_type": "code",
   "execution_count": 32,
   "outputs": [
    {
     "name": "stdout",
     "output_type": "stream",
     "text": [
      "2022-03-30T10:30:00.000\n"
     ]
    },
    {
     "data": {
      "text/plain": "datetime.datetime(2022, 3, 30, 10, 30)"
     },
     "execution_count": 32,
     "metadata": {},
     "output_type": "execute_result"
    }
   ],
   "source": [
    "str_date = work_tasks[0]['startDate'].split('+')[0]\n",
    "\n",
    "print(str_date)\n",
    "\n",
    "datetime.datetime.fromisoformat(str_date)"
   ],
   "metadata": {
    "collapsed": false,
    "pycharm": {
     "name": "#%%\n"
    }
   }
  },
  {
   "cell_type": "code",
   "execution_count": null,
   "outputs": [],
   "source": [],
   "metadata": {
    "collapsed": false,
    "pycharm": {
     "name": "#%%\n"
    }
   }
  }
 ],
 "metadata": {
  "kernelspec": {
   "display_name": "Python 3",
   "language": "python",
   "name": "python3"
  },
  "language_info": {
   "codemirror_mode": {
    "name": "ipython",
    "version": 2
   },
   "file_extension": ".py",
   "mimetype": "text/x-python",
   "name": "python",
   "nbconvert_exporter": "python",
   "pygments_lexer": "ipython2",
   "version": "2.7.6"
  }
 },
 "nbformat": 4,
 "nbformat_minor": 0
}